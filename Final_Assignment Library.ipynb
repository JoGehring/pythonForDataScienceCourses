{
 "cells": [
  {
   "cell_type": "markdown",
   "metadata": {},
   "source": [
    "<center>\n",
    "    <img src=\"https://s3-api.us-geo.objectstorage.softlayer.net/cf-courses-data/CognitiveClass/Logos/organization_logo/organization_logo.png\" width=\"300\" alt=\"cognitiveclass.ai logo\"  />\n",
    "</center>\n"
   ]
  },
  {
   "cell_type": "markdown",
   "metadata": {},
   "source": [
    "<h1>Extracting Stock Data Using a Python Library</h1>\n"
   ]
  },
  {
   "cell_type": "markdown",
   "metadata": {},
   "source": [
    "A company's stock share is a piece of the company more precisely:\n",
    "\n",
    "<p><b>A stock (also known as equity) is a security that represents the ownership of a fraction of a corporation. This\n",
    "entitles the owner of the stock to a proportion of the corporation's assets and profits equal to how much stock they own. Units of stock are called \"shares.\" [1]</p></b>\n",
    "\n",
    "An investor can buy a stock and sell it later. If the stock price increases, the investor profits, If it decreases,the investor with incur a loss.  Determining the stock price is complex; it depends on the number of outstanding shares, the size of the company's future profits, and much more. People trade stocks throughout the day the stock ticker is a report of the price of a certain stock, updated continuously throughout the trading session by the various stock market exchanges.\n",
    "\n",
    "<p>You are a data scientist working for a hedge fund; it's your job to determine any suspicious stock activity. In this lab you will extract stock data using a Python library. We will use the <coode>yfinance</code> library, it allows us to extract data for stocks returning data in a pandas dataframe. You will use the lab to extract.</p>\n"
   ]
  },
  {
   "cell_type": "markdown",
   "metadata": {},
   "source": [
    "<h2>Table of Contents</h2>\n",
    "<div class=\"alert alert-block alert-info\" style=\"margin-top: 20px\">\n",
    "    <ul>\n",
    "        <li>Using yfinance to Extract Stock Info</li>\n",
    "        <li>Using yfinance to Extract Historical Share Price Data</li>\n",
    "        <li>Using yfinance to Extract Historical Dividends Data</li>\n",
    "        <li>Exercise</li>\n",
    "    </ul>\n",
    "<p>\n",
    "    Estimated Time Needed: <strong>30 min</strong></p>\n",
    "</div>\n",
    "\n",
    "<hr>\n"
   ]
  },
  {
   "cell_type": "code",
   "execution_count": 1,
   "metadata": {},
   "outputs": [
    {
     "name": "stdout",
     "output_type": "stream",
     "text": [
      "Requirement already satisfied: yfinance in /opt/anaconda3/envs/pythonForDataScience01/lib/python3.10/site-packages (0.1.67)\r\n",
      "Requirement already satisfied: numpy>=1.15 in /opt/anaconda3/envs/pythonForDataScience01/lib/python3.10/site-packages (from yfinance) (1.23.3)\r\n",
      "Requirement already satisfied: pandas>=0.24 in /opt/anaconda3/envs/pythonForDataScience01/lib/python3.10/site-packages (from yfinance) (1.4.1)\r\n",
      "Requirement already satisfied: requests>=2.20 in /opt/anaconda3/envs/pythonForDataScience01/lib/python3.10/site-packages (from yfinance) (2.28.1)\r\n",
      "Requirement already satisfied: multitasking>=0.0.7 in /opt/anaconda3/envs/pythonForDataScience01/lib/python3.10/site-packages (from yfinance) (0.0.11)\r\n",
      "Requirement already satisfied: lxml>=4.5.1 in /opt/anaconda3/envs/pythonForDataScience01/lib/python3.10/site-packages (from yfinance) (4.9.1)\r\n",
      "Requirement already satisfied: python-dateutil>=2.8.1 in /opt/anaconda3/envs/pythonForDataScience01/lib/python3.10/site-packages (from pandas>=0.24->yfinance) (2.8.2)\r\n",
      "Requirement already satisfied: pytz>=2020.1 in /opt/anaconda3/envs/pythonForDataScience01/lib/python3.10/site-packages (from pandas>=0.24->yfinance) (2022.1)\r\n",
      "Requirement already satisfied: certifi>=2017.4.17 in /opt/anaconda3/envs/pythonForDataScience01/lib/python3.10/site-packages (from requests>=2.20->yfinance) (2022.9.24)\r\n",
      "Requirement already satisfied: urllib3<1.27,>=1.21.1 in /opt/anaconda3/envs/pythonForDataScience01/lib/python3.10/site-packages (from requests>=2.20->yfinance) (1.26.11)\r\n",
      "Requirement already satisfied: charset-normalizer<3,>=2 in /opt/anaconda3/envs/pythonForDataScience01/lib/python3.10/site-packages (from requests>=2.20->yfinance) (2.0.4)\r\n",
      "Requirement already satisfied: idna<4,>=2.5 in /opt/anaconda3/envs/pythonForDataScience01/lib/python3.10/site-packages (from requests>=2.20->yfinance) (3.3)\r\n",
      "Requirement already satisfied: six>=1.5 in /opt/anaconda3/envs/pythonForDataScience01/lib/python3.10/site-packages (from python-dateutil>=2.8.1->pandas>=0.24->yfinance) (1.16.0)\r\n"
     ]
    }
   ],
   "source": [
    "!pip install yfinance\n",
    "#!pip install pandas==1.3.3"
   ]
  },
  {
   "cell_type": "code",
   "execution_count": 2,
   "metadata": {},
   "outputs": [],
   "source": [
    "import yfinance as yf\n",
    "import pandas as pd\n"
   ]
  },
  {
   "cell_type": "markdown",
   "metadata": {},
   "source": [
    "Using the `Ticker` module we can create an object that will allow us to access functions to extract data. To do this we need to provide the ticker symbol for the stock, here the company is Apple and the ticker symbol is `AAPL`.\n"
   ]
  },
  {
   "cell_type": "markdown",
   "source": [
    "## Using the yfinance Library to Extract Stock Data\n"
   ],
   "metadata": {
    "collapsed": false
   }
  },
  {
   "cell_type": "code",
   "execution_count": 3,
   "outputs": [],
   "source": [
    "apple = yf.Ticker(\"AAPL\")"
   ],
   "metadata": {
    "collapsed": false
   }
  },
  {
   "cell_type": "markdown",
   "metadata": {},
   "source": [
    "Now we can access functions and variables to extract the type of data we need. You can view them and what they represent here [https://aroussi.com/post/python-yahoo-finance](https://aroussi.com/post/python-yahoo-finance?utm_medium=Exinfluencer&utm_source=Exinfluencer&utm_content=000026UJ&utm_term=10006555&utm_id=NA-SkillsNetwork-Channel-SkillsNetworkCoursesIBMDeveloperSkillsNetworkPY0220ENSkillsNetwork23455606-2022-01-01).\n"
   ]
  },
  {
   "cell_type": "markdown",
   "metadata": {},
   "source": [
    "### Stock Info\n"
   ]
  },
  {
   "cell_type": "markdown",
   "metadata": {},
   "source": [
    "Using the attribute  <code>info</code> we can extract information about the stock as a Python dictionary.\n"
   ]
  },
  {
   "cell_type": "code",
   "execution_count": 4,
   "metadata": {},
   "outputs": [
    {
     "data": {
      "text/plain": "{'zip': '95014',\n 'sector': 'Technology',\n 'fullTimeEmployees': 154000,\n 'longBusinessSummary': 'Apple Inc. designs, manufactures, and markets smartphones, personal computers, tablets, wearables, and accessories worldwide. It also sells various related services. In addition, the company offers iPhone, a line of smartphones; Mac, a line of personal computers; iPad, a line of multi-purpose tablets; AirPods Max, an over-ear wireless headphone; and wearables, home, and accessories comprising AirPods, Apple TV, Apple Watch, Beats products, HomePod, and iPod touch. Further, it provides AppleCare support services; cloud services store services; and operates various platforms, including the App Store that allow customers to discover and download applications and digital content, such as books, music, video, games, and podcasts. Additionally, the company offers various services, such as Apple Arcade, a game subscription service; Apple Music, which offers users a curated listening experience with on-demand radio stations; Apple News+, a subscription news and magazine service; Apple TV+, which offers exclusive original content; Apple Card, a co-branded credit card; and Apple Pay, a cashless payment service, as well as licenses its intellectual property. The company serves consumers, and small and mid-sized businesses; and the education, enterprise, and government markets. It distributes third-party applications for its products through the App Store. The company also sells its products through its retail and online stores, and direct sales force; and third-party cellular network carriers, wholesalers, retailers, and resellers. Apple Inc. was incorporated in 1977 and is headquartered in Cupertino, California.',\n 'city': 'Cupertino',\n 'phone': '408 996 1010',\n 'state': 'CA',\n 'country': 'United States',\n 'companyOfficers': [],\n 'website': 'https://www.apple.com',\n 'maxAge': 1,\n 'address1': 'One Apple Park Way',\n 'industry': 'Consumer Electronics',\n 'ebitdaMargins': 0.3343,\n 'profitMargins': 0.25709,\n 'grossMargins': 0.43313998,\n 'operatingCashflow': 118224003072,\n 'revenueGrowth': 0.019,\n 'operatingMargins': 0.30533,\n 'ebitda': 129556996096,\n 'targetLowPrice': 122,\n 'recommendationKey': 'buy',\n 'grossProfits': 152836000000,\n 'freeCashflow': 83344621568,\n 'targetMedianPrice': 185,\n 'currentPrice': 147.27,\n 'earningsGrowth': -0.077,\n 'currentRatio': 0.865,\n 'returnOnAssets': 0.22204,\n 'numberOfAnalystOpinions': 40,\n 'targetMeanPrice': 183.59,\n 'debtToEquity': 205.984,\n 'returnOnEquity': 1.62816,\n 'targetHighPrice': 220,\n 'totalCash': 48230998016,\n 'totalDebt': 119691001856,\n 'totalRevenue': 387541991424,\n 'totalCashPerShare': 3.001,\n 'financialCurrency': 'USD',\n 'revenuePerShare': 23.732,\n 'quickRatio': 0.697,\n 'recommendationMean': 1.9,\n 'exchange': 'NMS',\n 'shortName': 'Apple Inc.',\n 'longName': 'Apple Inc.',\n 'exchangeTimezoneName': 'America/New_York',\n 'exchangeTimezoneShortName': 'EDT',\n 'isEsgPopulated': False,\n 'gmtOffSetMilliseconds': '-14400000',\n 'quoteType': 'EQUITY',\n 'symbol': 'AAPL',\n 'messageBoardId': 'finmb_24937',\n 'market': 'us_market',\n 'annualHoldingsTurnover': None,\n 'enterpriseToRevenue': 6.145,\n 'beta3Year': None,\n 'enterpriseToEbitda': 18.383,\n '52WeekChange': -0.03564465,\n 'morningStarRiskRating': None,\n 'forwardEps': 6.44,\n 'revenueQuarterlyGrowth': None,\n 'sharesOutstanding': 16070800384,\n 'fundInceptionDate': None,\n 'annualReportExpenseRatio': None,\n 'totalAssets': None,\n 'bookValue': 3.61,\n 'sharesShort': 103251184,\n 'sharesPercentSharesOut': 0.0064,\n 'fundFamily': None,\n 'lastFiscalYearEnd': 1632528000,\n 'heldPercentInstitutions': 0.59571,\n 'netIncomeToCommon': 99632996352,\n 'trailingEps': 6.05,\n 'lastDividendValue': 0.23,\n 'SandP52WeekChange': -0.19343,\n 'priceToBook': 40.795017,\n 'heldPercentInsiders': 0.00071000005,\n 'nextFiscalYearEnd': 1695600000,\n 'yield': None,\n 'mostRecentQuarter': 1656115200,\n 'shortRatio': 1.06,\n 'sharesShortPreviousMonthDate': 1661904000,\n 'floatShares': 16053717003,\n 'beta': 1.249815,\n 'enterpriseValue': 2381630668800,\n 'priceHint': 2,\n 'threeYearAverageReturn': None,\n 'lastSplitDate': 1598832000,\n 'lastSplitFactor': '4:1',\n 'legalType': None,\n 'lastDividendDate': 1659657600,\n 'morningStarOverallRating': None,\n 'earningsQuarterlyGrowth': -0.106,\n 'priceToSalesTrailing12Months': 6.1070724,\n 'dateShortInterest': 1664496000,\n 'pegRatio': 2.63,\n 'ytdReturn': None,\n 'forwardPE': 22.868013,\n 'lastCapGain': None,\n 'shortPercentOfFloat': 0.0064,\n 'sharesShortPriorMonth': 113066596,\n 'impliedSharesOutstanding': 0,\n 'category': None,\n 'fiveYearAverageReturn': None,\n 'previousClose': 143.39,\n 'regularMarketOpen': 142.87,\n 'twoHundredDayAverage': 157.4574,\n 'trailingAnnualDividendYield': 0.006206848,\n 'payoutRatio': 0.1471,\n 'volume24Hr': None,\n 'regularMarketDayHigh': 147.8473,\n 'navPrice': None,\n 'averageDailyVolume10Day': 82051420,\n 'regularMarketPreviousClose': 143.39,\n 'fiftyDayAverage': 154.5314,\n 'trailingAnnualDividendRate': 0.89,\n 'open': 142.87,\n 'toCurrency': None,\n 'averageVolume10days': 82051420,\n 'expireDate': None,\n 'algorithm': None,\n 'dividendRate': 0.92,\n 'exDividendDate': 1659657600,\n 'circulatingSupply': None,\n 'startDate': None,\n 'regularMarketDayLow': 142.649,\n 'currency': 'USD',\n 'trailingPE': 24.342148,\n 'regularMarketVolume': 85641894,\n 'lastMarket': None,\n 'maxSupply': None,\n 'openInterest': None,\n 'marketCap': 2366746918912,\n 'volumeAllCurrencies': None,\n 'strikePrice': None,\n 'averageVolume': 81284857,\n 'dayLow': 142.649,\n 'ask': 147.5,\n 'askSize': 800,\n 'volume': 85641894,\n 'fiftyTwoWeekHigh': 182.94,\n 'fromCurrency': None,\n 'fiveYearAvgDividendYield': 1.02,\n 'fiftyTwoWeekLow': 129.04,\n 'bid': 147.48,\n 'tradeable': False,\n 'dividendYield': 0.0064,\n 'bidSize': 3100,\n 'dayHigh': 147.8473,\n 'coinMarketCapLink': None,\n 'regularMarketPrice': 147.27,\n 'preMarketPrice': 143.02,\n 'logo_url': 'https://logo.clearbit.com/apple.com'}"
     },
     "execution_count": 4,
     "metadata": {},
     "output_type": "execute_result"
    }
   ],
   "source": [
    "apple_info=apple.info\n",
    "apple_info"
   ]
  },
  {
   "cell_type": "markdown",
   "metadata": {},
   "source": [
    "We can get the <code>'country'</code> using the key country\n"
   ]
  },
  {
   "cell_type": "code",
   "execution_count": 5,
   "metadata": {},
   "outputs": [
    {
     "data": {
      "text/plain": "'United States'"
     },
     "execution_count": 5,
     "metadata": {},
     "output_type": "execute_result"
    }
   ],
   "source": [
    "apple_info['country']"
   ]
  },
  {
   "cell_type": "markdown",
   "metadata": {},
   "source": [
    "A share is the single smallest part of a company's stock  that you can buy, the prices of these shares fluctuate over time. Using the <code>history()</code> method we can get the share price of the stock over a certain period of time. Using the `period` parameter we can set how far back from the present to get data. The options for `period` are 1 day (1d), 5d, 1 month (1mo) , 3mo, 6mo, 1 year (1y), 2y, 5y, 10y, ytd, and max.\n"
   ]
  },
  {
   "cell_type": "markdown",
   "source": [
    "### Extracting Share Price\n"
   ],
   "metadata": {
    "collapsed": false
   }
  },
  {
   "cell_type": "code",
   "execution_count": 6,
   "outputs": [],
   "source": [
    "apple_share_price_data = apple.history(period=\"max\")"
   ],
   "metadata": {
    "collapsed": false
   }
  },
  {
   "cell_type": "markdown",
   "metadata": {},
   "source": [
    "The format that the data is returned in is a Pandas DataFrame. With the `Date` as the index the share `Open`, `High`, `Low`, `Close`, `Volume`, and `Stock Splits` are given for each day.\n"
   ]
  },
  {
   "cell_type": "code",
   "execution_count": 7,
   "metadata": {},
   "outputs": [
    {
     "data": {
      "text/plain": "                Open      High       Low     Close     Volume  Dividends  \\\nDate                                                                       \n1980-12-12  0.100039  0.100474  0.100039  0.100039  469033600        0.0   \n1980-12-15  0.095255  0.095255  0.094820  0.094820  175884800        0.0   \n1980-12-16  0.088296  0.088296  0.087861  0.087861  105728000        0.0   \n1980-12-17  0.090035  0.090470  0.090035  0.090035   86441600        0.0   \n1980-12-18  0.092646  0.093081  0.092646  0.092646   73449600        0.0   \n1980-12-19  0.098300  0.098735  0.098300  0.098300   48630400        0.0   \n1980-12-22  0.103084  0.103520  0.103084  0.103084   37363200        0.0   \n1980-12-23  0.107434  0.107869  0.107434  0.107434   46950400        0.0   \n1980-12-24  0.113088  0.113523  0.113088  0.113088   48003200        0.0   \n1980-12-26  0.123527  0.123962  0.123527  0.123527   55574400        0.0   \n\n            Stock Splits  \nDate                      \n1980-12-12           0.0  \n1980-12-15           0.0  \n1980-12-16           0.0  \n1980-12-17           0.0  \n1980-12-18           0.0  \n1980-12-19           0.0  \n1980-12-22           0.0  \n1980-12-23           0.0  \n1980-12-24           0.0  \n1980-12-26           0.0  ",
      "text/html": "<div>\n<style scoped>\n    .dataframe tbody tr th:only-of-type {\n        vertical-align: middle;\n    }\n\n    .dataframe tbody tr th {\n        vertical-align: top;\n    }\n\n    .dataframe thead th {\n        text-align: right;\n    }\n</style>\n<table border=\"1\" class=\"dataframe\">\n  <thead>\n    <tr style=\"text-align: right;\">\n      <th></th>\n      <th>Open</th>\n      <th>High</th>\n      <th>Low</th>\n      <th>Close</th>\n      <th>Volume</th>\n      <th>Dividends</th>\n      <th>Stock Splits</th>\n    </tr>\n    <tr>\n      <th>Date</th>\n      <th></th>\n      <th></th>\n      <th></th>\n      <th></th>\n      <th></th>\n      <th></th>\n      <th></th>\n    </tr>\n  </thead>\n  <tbody>\n    <tr>\n      <th>1980-12-12</th>\n      <td>0.100039</td>\n      <td>0.100474</td>\n      <td>0.100039</td>\n      <td>0.100039</td>\n      <td>469033600</td>\n      <td>0.0</td>\n      <td>0.0</td>\n    </tr>\n    <tr>\n      <th>1980-12-15</th>\n      <td>0.095255</td>\n      <td>0.095255</td>\n      <td>0.094820</td>\n      <td>0.094820</td>\n      <td>175884800</td>\n      <td>0.0</td>\n      <td>0.0</td>\n    </tr>\n    <tr>\n      <th>1980-12-16</th>\n      <td>0.088296</td>\n      <td>0.088296</td>\n      <td>0.087861</td>\n      <td>0.087861</td>\n      <td>105728000</td>\n      <td>0.0</td>\n      <td>0.0</td>\n    </tr>\n    <tr>\n      <th>1980-12-17</th>\n      <td>0.090035</td>\n      <td>0.090470</td>\n      <td>0.090035</td>\n      <td>0.090035</td>\n      <td>86441600</td>\n      <td>0.0</td>\n      <td>0.0</td>\n    </tr>\n    <tr>\n      <th>1980-12-18</th>\n      <td>0.092646</td>\n      <td>0.093081</td>\n      <td>0.092646</td>\n      <td>0.092646</td>\n      <td>73449600</td>\n      <td>0.0</td>\n      <td>0.0</td>\n    </tr>\n    <tr>\n      <th>1980-12-19</th>\n      <td>0.098300</td>\n      <td>0.098735</td>\n      <td>0.098300</td>\n      <td>0.098300</td>\n      <td>48630400</td>\n      <td>0.0</td>\n      <td>0.0</td>\n    </tr>\n    <tr>\n      <th>1980-12-22</th>\n      <td>0.103084</td>\n      <td>0.103520</td>\n      <td>0.103084</td>\n      <td>0.103084</td>\n      <td>37363200</td>\n      <td>0.0</td>\n      <td>0.0</td>\n    </tr>\n    <tr>\n      <th>1980-12-23</th>\n      <td>0.107434</td>\n      <td>0.107869</td>\n      <td>0.107434</td>\n      <td>0.107434</td>\n      <td>46950400</td>\n      <td>0.0</td>\n      <td>0.0</td>\n    </tr>\n    <tr>\n      <th>1980-12-24</th>\n      <td>0.113088</td>\n      <td>0.113523</td>\n      <td>0.113088</td>\n      <td>0.113088</td>\n      <td>48003200</td>\n      <td>0.0</td>\n      <td>0.0</td>\n    </tr>\n    <tr>\n      <th>1980-12-26</th>\n      <td>0.123527</td>\n      <td>0.123962</td>\n      <td>0.123527</td>\n      <td>0.123527</td>\n      <td>55574400</td>\n      <td>0.0</td>\n      <td>0.0</td>\n    </tr>\n  </tbody>\n</table>\n</div>"
     },
     "execution_count": 7,
     "metadata": {},
     "output_type": "execute_result"
    }
   ],
   "source": [
    "apple_share_price_data.head(10)"
   ]
  },
  {
   "cell_type": "markdown",
   "metadata": {},
   "source": [
    "We can reset the index of the DataFrame with the `reset_index` function. We also set the `inplace` paramter to `True` so the change takes place to the DataFrame itself.\n"
   ]
  },
  {
   "cell_type": "code",
   "execution_count": 8,
   "metadata": {},
   "outputs": [
    {
     "data": {
      "text/plain": "Date            1980-12-12 00:00:00\nOpen                       0.100039\nHigh                       0.100474\nLow                        0.100039\nClose                      0.100039\nVolume                    469033600\nDividends                       0.0\nStock Splits                    0.0\nName: 0, dtype: object"
     },
     "execution_count": 8,
     "metadata": {},
     "output_type": "execute_result"
    }
   ],
   "source": [
    "apple_share_price_data.reset_index(inplace=True)\n",
    "apple_share_price_data.iloc[0]"
   ]
  },
  {
   "cell_type": "markdown",
   "metadata": {},
   "source": [
    "We can plot the `Open` price against the `Date`:\n"
   ]
  },
  {
   "cell_type": "code",
   "execution_count": 9,
   "metadata": {},
   "outputs": [
    {
     "data": {
      "text/plain": "<AxesSubplot:xlabel='Date'>"
     },
     "execution_count": 9,
     "metadata": {},
     "output_type": "execute_result"
    },
    {
     "data": {
      "text/plain": "<Figure size 640x480 with 1 Axes>",
      "image/png": "[encoded data removed]"
     },
     "metadata": {},
     "output_type": "display_data"
    }
   ],
   "source": [
    "apple_share_price_data.plot(x=\"Date\", y=\"Open\")"
   ]
  },
  {
   "cell_type": "markdown",
   "metadata": {},
   "source": [
    "### Extracting Dividends\n"
   ]
  },
  {
   "cell_type": "markdown",
   "metadata": {},
   "source": [
    "Dividends are the distribution of a companys profits to shareholders. In this case they are defined as an amount of money returned per share an investor owns. Using the variable `dividends` we can get a dataframe of the data. The period of the data is given by the period defined in the 'history\\` function.\n"
   ]
  },
  {
   "cell_type": "code",
   "execution_count": 10,
   "metadata": {},
   "outputs": [
    {
     "data": {
      "text/plain": "Date\n1987-05-11    0.000536\n1987-08-10    0.000536\n1987-11-17    0.000714\n1988-02-12    0.000714\n1988-05-16    0.000714\n                ...   \n2021-08-06    0.220000\n2021-11-05    0.220000\n2022-02-04    0.220000\n2022-05-06    0.230000\n2022-08-05    0.230000\nName: Dividends, Length: 76, dtype: float64"
     },
     "execution_count": 10,
     "metadata": {},
     "output_type": "execute_result"
    }
   ],
   "source": [
    "apple.dividends"
   ]
  },
  {
   "cell_type": "markdown",
   "metadata": {},
   "source": [
    "We can plot the dividends overtime:\n"
   ]
  },
  {
   "cell_type": "code",
   "execution_count": 11,
   "metadata": {},
   "outputs": [
    {
     "data": {
      "text/plain": "<AxesSubplot:xlabel='Date'>"
     },
     "execution_count": 11,
     "metadata": {},
     "output_type": "execute_result"
    },
    {
     "data": {
      "text/plain": "<Figure size 640x480 with 1 Axes>",
      "image/png": "[encoded data removed]"
     },
     "metadata": {},
     "output_type": "display_data"
    }
   ],
   "source": [
    "apple.dividends.plot()"
   ]
  },
  {
   "cell_type": "markdown",
   "metadata": {},
   "source": [
    "## Exercise\n"
   ]
  },
  {
   "cell_type": "markdown",
   "metadata": {},
   "source": [
    "Now using the `Ticker` module create an object for AMD (Advanced Micro Devices) with the ticker symbol is `AMD` called; name the object <code>amd</code>.\n"
   ]
  },
  {
   "cell_type": "code",
   "execution_count": 12,
   "metadata": {},
   "outputs": [],
   "source": [
    "amd = yf.Ticker('AMD')"
   ]
  },
  {
   "cell_type": "markdown",
   "metadata": {},
   "source": [
    "<b>Question 1</b> Use the key  <code>'country'</code> to find the country the stock belongs to, remember it as it will be a quiz question.\n"
   ]
  },
  {
   "cell_type": "code",
   "execution_count": 13,
   "metadata": {},
   "outputs": [
    {
     "data": {
      "text/plain": "'United States'"
     },
     "execution_count": 13,
     "metadata": {},
     "output_type": "execute_result"
    }
   ],
   "source": [
    "amd_country = amd.info[\"country\"]\n",
    "amd_country"
   ]
  },
  {
   "cell_type": "markdown",
   "metadata": {},
   "source": [
    "<b>Question 2</b> Use the key  <code>'sector'</code> to find the sector the stock belongs to, remember it as it will be a quiz question.\n"
   ]
  },
  {
   "cell_type": "code",
   "execution_count": 14,
   "metadata": {},
   "outputs": [
    {
     "data": {
      "text/plain": "'Technology'"
     },
     "execution_count": 14,
     "metadata": {},
     "output_type": "execute_result"
    }
   ],
   "source": [
    "amd.info[\"sector\"]"
   ]
  },
  {
   "cell_type": "markdown",
   "metadata": {},
   "source": [
    "<b>Question 3</b> Obtain stock data for AMD using the `history` function, set the `period` to max. Find the `Volume` traded on the first day (first row).\n"
   ]
  },
  {
   "cell_type": "code",
   "execution_count": 15,
   "metadata": {},
   "outputs": [
    {
     "ename": "AttributeError",
     "evalue": "'Index' object has no attribute 'tz_localize'",
     "output_type": "error",
     "traceback": [
      "\u001B[0;31m---------------------------------------------------------------------------\u001B[0m",
      "\u001B[0;31mAttributeError\u001B[0m                            Traceback (most recent call last)",
      "Input \u001B[0;32mIn [15]\u001B[0m, in \u001B[0;36m<cell line: 1>\u001B[0;34m()\u001B[0m\n\u001B[0;32m----> 1\u001B[0m amd_history \u001B[38;5;241m=\u001B[39m \u001B[43mamd\u001B[49m\u001B[38;5;241;43m.\u001B[39;49m\u001B[43mhistory\u001B[49m\u001B[43m(\u001B[49m\u001B[43mperiod\u001B[49m\u001B[38;5;241;43m=\u001B[39;49m\u001B[38;5;124;43m\"\u001B[39;49m\u001B[38;5;124;43mmax\u001B[39;49m\u001B[38;5;124;43m\"\u001B[39;49m\u001B[43m)\u001B[49m\n",
      "File \u001B[0;32m/opt/anaconda3/envs/pythonForDataScience01/lib/python3.10/site-packages/yfinance/base.py:279\u001B[0m, in \u001B[0;36mTickerBase.history\u001B[0;34m(self, period, interval, start, end, prepost, actions, auto_adjust, back_adjust, proxy, rounding, tz, timeout, **kwargs)\u001B[0m\n\u001B[1;32m    276\u001B[0m df[\u001B[38;5;124m\"\u001B[39m\u001B[38;5;124mStock Splits\u001B[39m\u001B[38;5;124m\"\u001B[39m]\u001B[38;5;241m.\u001B[39mfillna(\u001B[38;5;241m0\u001B[39m, inplace\u001B[38;5;241m=\u001B[39m\u001B[38;5;28;01mTrue\u001B[39;00m)\n\u001B[1;32m    278\u001B[0m \u001B[38;5;66;03m# index eod/intraday\u001B[39;00m\n\u001B[0;32m--> 279\u001B[0m df\u001B[38;5;241m.\u001B[39mindex \u001B[38;5;241m=\u001B[39m \u001B[43mdf\u001B[49m\u001B[38;5;241;43m.\u001B[39;49m\u001B[43mindex\u001B[49m\u001B[38;5;241;43m.\u001B[39;49m\u001B[43mtz_localize\u001B[49m(\u001B[38;5;124m\"\u001B[39m\u001B[38;5;124mUTC\u001B[39m\u001B[38;5;124m\"\u001B[39m)\u001B[38;5;241m.\u001B[39mtz_convert(\n\u001B[1;32m    280\u001B[0m     data[\u001B[38;5;124m\"\u001B[39m\u001B[38;5;124mchart\u001B[39m\u001B[38;5;124m\"\u001B[39m][\u001B[38;5;124m\"\u001B[39m\u001B[38;5;124mresult\u001B[39m\u001B[38;5;124m\"\u001B[39m][\u001B[38;5;241m0\u001B[39m][\u001B[38;5;124m\"\u001B[39m\u001B[38;5;124mmeta\u001B[39m\u001B[38;5;124m\"\u001B[39m][\u001B[38;5;124m\"\u001B[39m\u001B[38;5;124mexchangeTimezoneName\u001B[39m\u001B[38;5;124m\"\u001B[39m])\n\u001B[1;32m    282\u001B[0m \u001B[38;5;28;01mif\u001B[39;00m params[\u001B[38;5;124m\"\u001B[39m\u001B[38;5;124minterval\u001B[39m\u001B[38;5;124m\"\u001B[39m][\u001B[38;5;241m-\u001B[39m\u001B[38;5;241m1\u001B[39m] \u001B[38;5;241m==\u001B[39m \u001B[38;5;124m\"\u001B[39m\u001B[38;5;124mm\u001B[39m\u001B[38;5;124m\"\u001B[39m:\n\u001B[1;32m    283\u001B[0m     df\u001B[38;5;241m.\u001B[39mindex\u001B[38;5;241m.\u001B[39mname \u001B[38;5;241m=\u001B[39m \u001B[38;5;124m\"\u001B[39m\u001B[38;5;124mDatetime\u001B[39m\u001B[38;5;124m\"\u001B[39m\n",
      "\u001B[0;31mAttributeError\u001B[0m: 'Index' object has no attribute 'tz_localize'"
     ]
    }
   ],
   "source": [
    "amd_history = amd.history(period=\"max\")\n"
   ]
  },
  {
   "cell_type": "markdown",
   "metadata": {},
   "source": [
    "<h2>About the Authors:</h2> \n",
    "\n",
    "<a href=\"https://www.linkedin.com/in/joseph-s-50398b136/?utm_medium=Exinfluencer&utm_source=Exinfluencer&utm_content=000026UJ&utm_term=10006555&utm_id=NA-SkillsNetwork-Channel-SkillsNetworkCoursesIBMDeveloperSkillsNetworkPY0220ENSkillsNetwork23455606-2022-01-01\">Joseph Santarcangelo</a> has a PhD in Electrical Engineering, his research focused on using machine learning, signal processing, and computer vision to determine how videos impact human cognition. Joseph has been working for IBM since he completed his PhD.\n",
    "\n",
    "Azim Hirjani\n"
   ]
  },
  {
   "cell_type": "markdown",
   "metadata": {},
   "source": [
    "## Change Log\n",
    "\n",
    "| Date (YYYY-MM-DD) | Version | Changed By    | Change Description        |\n",
    "| ----------------- | ------- | ------------- | ------------------------- |\n",
    "| 2020-11-10        | 1.1     | Malika Singla | Deleted the Optional part |\n",
    "| 2020-08-27        | 1.0     | Malika Singla | Added lab to GitLab       |\n",
    "\n",
    "<hr>\n",
    "\n",
    "## <h3 align=\"center\"> © IBM Corporation 2020. All rights reserved. <h3/>\n",
    "\n",
    "<p>\n"
   ]
  }
 ],
 "metadata": {
  "kernelspec": {
   "display_name": "Python 3",
   "language": "python",
   "name": "python3"
  },
  "language_info": {
   "codemirror_mode": {
    "name": "ipython",
    "version": 3
   },
   "file_extension": ".py",
   "mimetype": "text/x-python",
   "name": "python",
   "nbconvert_exporter": "python",
   "pygments_lexer": "ipython3",
   "version": "3.8.0"
  }
 },
 "nbformat": 4,
 "nbformat_minor": 4
}
